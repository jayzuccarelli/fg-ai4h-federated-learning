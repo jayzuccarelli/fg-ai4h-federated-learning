{
 "cells": [
  {
   "cell_type": "markdown",
   "metadata": {
    "id": "oofkI7isTEbo"
   },
   "source": [
    "<center><h1>UCI Diabetes Dataset</h1></center>"
   ]
  },
  {
   "cell_type": "markdown",
   "metadata": {
    "id": "GXQK9MjTTM1b"
   },
   "source": [
    "## Intro\n",
    "\n",
    "The dataset represents 10 years (1999-2008) of clinical care at 130 US hospitals and integrated delivery networks. It includes over 50 features representing patient and hospital outcomes. Information was extracted from the database for encounters that satisfied the following criteria.\n",
    "- (1)\tIt is an inpatient encounter (a hospital admission).\n",
    "- (2)\tIt is a diabetic encounter, that is, one during which any kind of diabetes was entered to the system as a diagnosis.\n",
    "- (3)\tThe length of stay was at least 1 day and at most 14 days.\n",
    "- (4)\tLaboratory tests were performed during the encounter.\n",
    "- (5)\tMedications were administered during the encounter.\n",
    "\n",
    "The data contains such attributes as patient number, race, gender, age, admission type, time in hospital, medical specialty of admitting physician, number of lab test performed, HbA1c test result, diagnosis, number of medication, diabetic medications, number of outpatient, inpatient, and emergency visits in the year before the hospitalization, etc.\n",
    "\n",
    "[Source](https://archive.ics.uci.edu/dataset/296/diabetes+130-us+hospitals+for+years+1999-2008)"
   ]
  },
  {
   "cell_type": "markdown",
   "metadata": {
    "id": "d2AiU2e0-LZR"
   },
   "source": [
    "## Exploratory Data Analysis (EDA)"
   ]
  },
  {
   "cell_type": "markdown",
   "metadata": {
    "id": "stWC0ktD5u6f"
   },
   "source": [
    "### Libraries"
   ]
  },
  {
   "cell_type": "code",
   "execution_count": 1,
   "metadata": {
    "id": "S-FkAVIGTL-M"
   },
   "outputs": [],
   "source": [
    "import matplotlib as mp\n",
    "import matplotlib.pyplot as plt\n",
    "import numpy as np\n",
    "import pandas as pd\n",
    "import pickle\n",
    "import sklearn.ensemble as se\n",
    "import sklearn.feature_selection as fs\n",
    "import sklearn.impute as si\n",
    "import sklearn.linear_model as lm\n",
    "import sklearn.metrics as sm\n",
    "import sklearn.model_selection as ms\n",
    "import xgboost as xg\n",
    "from itertools import combinations\n",
    "from tqdm import tqdm"
   ]
  },
  {
   "cell_type": "markdown",
   "metadata": {
    "id": "B8UAg89v5zB2"
   },
   "source": [
    "### Data Loading"
   ]
  },
  {
   "cell_type": "code",
   "execution_count": 2,
   "metadata": {
    "colab": {
     "base_uri": "https://localhost:8080/",
     "height": 386
    },
    "id": "KULC2L2mWDa_",
    "outputId": "7548bb52-7f05-4abd-e1db-aefbe6a00b68"
   },
   "outputs": [
    {
     "data": {
      "text/html": [
       "<div>\n",
       "<style scoped>\n",
       "    .dataframe tbody tr th:only-of-type {\n",
       "        vertical-align: middle;\n",
       "    }\n",
       "\n",
       "    .dataframe tbody tr th {\n",
       "        vertical-align: top;\n",
       "    }\n",
       "\n",
       "    .dataframe thead th {\n",
       "        text-align: right;\n",
       "    }\n",
       "</style>\n",
       "<table border=\"1\" class=\"dataframe\">\n",
       "  <thead>\n",
       "    <tr style=\"text-align: right;\">\n",
       "      <th></th>\n",
       "      <th>id</th>\n",
       "      <th>encounter_id</th>\n",
       "      <th>patient_nbr</th>\n",
       "      <th>race</th>\n",
       "      <th>gender</th>\n",
       "      <th>age</th>\n",
       "      <th>weight</th>\n",
       "      <th>admission_type_id</th>\n",
       "      <th>discharge_disposition_id</th>\n",
       "      <th>admission_source_id</th>\n",
       "      <th>...</th>\n",
       "      <th>citoglipton</th>\n",
       "      <th>insulin</th>\n",
       "      <th>glyburide.metformin</th>\n",
       "      <th>glipizide.metformin</th>\n",
       "      <th>glimepiride.pioglitazone</th>\n",
       "      <th>metformin.rosiglitazone</th>\n",
       "      <th>metformin.pioglitazone</th>\n",
       "      <th>change</th>\n",
       "      <th>diabetesMed</th>\n",
       "      <th>readmitted</th>\n",
       "    </tr>\n",
       "  </thead>\n",
       "  <tbody>\n",
       "    <tr>\n",
       "      <th>0</th>\n",
       "      <td>1</td>\n",
       "      <td>2278392</td>\n",
       "      <td>8222157</td>\n",
       "      <td>Caucasian</td>\n",
       "      <td>Female</td>\n",
       "      <td>[0-10)</td>\n",
       "      <td>?</td>\n",
       "      <td>6</td>\n",
       "      <td>25</td>\n",
       "      <td>1</td>\n",
       "      <td>...</td>\n",
       "      <td>No</td>\n",
       "      <td>No</td>\n",
       "      <td>No</td>\n",
       "      <td>No</td>\n",
       "      <td>No</td>\n",
       "      <td>No</td>\n",
       "      <td>No</td>\n",
       "      <td>No</td>\n",
       "      <td>No</td>\n",
       "      <td>NO</td>\n",
       "    </tr>\n",
       "    <tr>\n",
       "      <th>1</th>\n",
       "      <td>2</td>\n",
       "      <td>149190</td>\n",
       "      <td>55629189</td>\n",
       "      <td>Caucasian</td>\n",
       "      <td>Female</td>\n",
       "      <td>[10-20)</td>\n",
       "      <td>?</td>\n",
       "      <td>1</td>\n",
       "      <td>1</td>\n",
       "      <td>7</td>\n",
       "      <td>...</td>\n",
       "      <td>No</td>\n",
       "      <td>Up</td>\n",
       "      <td>No</td>\n",
       "      <td>No</td>\n",
       "      <td>No</td>\n",
       "      <td>No</td>\n",
       "      <td>No</td>\n",
       "      <td>Ch</td>\n",
       "      <td>Yes</td>\n",
       "      <td>&gt;30</td>\n",
       "    </tr>\n",
       "    <tr>\n",
       "      <th>2</th>\n",
       "      <td>3</td>\n",
       "      <td>64410</td>\n",
       "      <td>86047875</td>\n",
       "      <td>AfricanAmerican</td>\n",
       "      <td>Female</td>\n",
       "      <td>[20-30)</td>\n",
       "      <td>?</td>\n",
       "      <td>1</td>\n",
       "      <td>1</td>\n",
       "      <td>7</td>\n",
       "      <td>...</td>\n",
       "      <td>No</td>\n",
       "      <td>No</td>\n",
       "      <td>No</td>\n",
       "      <td>No</td>\n",
       "      <td>No</td>\n",
       "      <td>No</td>\n",
       "      <td>No</td>\n",
       "      <td>No</td>\n",
       "      <td>Yes</td>\n",
       "      <td>NO</td>\n",
       "    </tr>\n",
       "    <tr>\n",
       "      <th>3</th>\n",
       "      <td>4</td>\n",
       "      <td>500364</td>\n",
       "      <td>82442376</td>\n",
       "      <td>Caucasian</td>\n",
       "      <td>Male</td>\n",
       "      <td>[30-40)</td>\n",
       "      <td>?</td>\n",
       "      <td>1</td>\n",
       "      <td>1</td>\n",
       "      <td>7</td>\n",
       "      <td>...</td>\n",
       "      <td>No</td>\n",
       "      <td>Up</td>\n",
       "      <td>No</td>\n",
       "      <td>No</td>\n",
       "      <td>No</td>\n",
       "      <td>No</td>\n",
       "      <td>No</td>\n",
       "      <td>Ch</td>\n",
       "      <td>Yes</td>\n",
       "      <td>NO</td>\n",
       "    </tr>\n",
       "    <tr>\n",
       "      <th>4</th>\n",
       "      <td>5</td>\n",
       "      <td>16680</td>\n",
       "      <td>42519267</td>\n",
       "      <td>Caucasian</td>\n",
       "      <td>Male</td>\n",
       "      <td>[40-50)</td>\n",
       "      <td>?</td>\n",
       "      <td>1</td>\n",
       "      <td>1</td>\n",
       "      <td>7</td>\n",
       "      <td>...</td>\n",
       "      <td>No</td>\n",
       "      <td>Steady</td>\n",
       "      <td>No</td>\n",
       "      <td>No</td>\n",
       "      <td>No</td>\n",
       "      <td>No</td>\n",
       "      <td>No</td>\n",
       "      <td>Ch</td>\n",
       "      <td>Yes</td>\n",
       "      <td>NO</td>\n",
       "    </tr>\n",
       "  </tbody>\n",
       "</table>\n",
       "<p>5 rows × 51 columns</p>\n",
       "</div>"
      ],
      "text/plain": [
       "   id  encounter_id  patient_nbr             race  gender      age weight  \\\n",
       "0   1       2278392      8222157        Caucasian  Female   [0-10)      ?   \n",
       "1   2        149190     55629189        Caucasian  Female  [10-20)      ?   \n",
       "2   3         64410     86047875  AfricanAmerican  Female  [20-30)      ?   \n",
       "3   4        500364     82442376        Caucasian    Male  [30-40)      ?   \n",
       "4   5         16680     42519267        Caucasian    Male  [40-50)      ?   \n",
       "\n",
       "   admission_type_id  discharge_disposition_id  admission_source_id  ...  \\\n",
       "0                  6                        25                    1  ...   \n",
       "1                  1                         1                    7  ...   \n",
       "2                  1                         1                    7  ...   \n",
       "3                  1                         1                    7  ...   \n",
       "4                  1                         1                    7  ...   \n",
       "\n",
       "   citoglipton insulin glyburide.metformin  glipizide.metformin  \\\n",
       "0           No      No                  No                   No   \n",
       "1           No      Up                  No                   No   \n",
       "2           No      No                  No                   No   \n",
       "3           No      Up                  No                   No   \n",
       "4           No  Steady                  No                   No   \n",
       "\n",
       "   glimepiride.pioglitazone  metformin.rosiglitazone  metformin.pioglitazone  \\\n",
       "0                        No                       No                      No   \n",
       "1                        No                       No                      No   \n",
       "2                        No                       No                      No   \n",
       "3                        No                       No                      No   \n",
       "4                        No                       No                      No   \n",
       "\n",
       "   change  diabetesMed readmitted  \n",
       "0      No           No         NO  \n",
       "1      Ch          Yes        >30  \n",
       "2      No          Yes         NO  \n",
       "3      Ch          Yes         NO  \n",
       "4      Ch          Yes         NO  \n",
       "\n",
       "[5 rows x 51 columns]"
      ]
     },
     "execution_count": 2,
     "metadata": {},
     "output_type": "execute_result"
    }
   ],
   "source": [
    "data = pd.read_csv('diabetes.csv')\n",
    "data.head()"
   ]
  },
  {
   "cell_type": "markdown",
   "metadata": {
    "id": "s6gzEXOV55lT"
   },
   "source": [
    "### Counts"
   ]
  },
  {
   "cell_type": "code",
   "execution_count": 3,
   "metadata": {
    "colab": {
     "base_uri": "https://localhost:8080/"
    },
    "id": "xYyvkocKWFeZ",
    "outputId": "6315d2cb-1db0-44f9-de20-5da704a842f6"
   },
   "outputs": [
    {
     "name": "stdout",
     "output_type": "stream",
     "text": [
      "Number of Samples: 101766\n",
      "Number of Features: 51\n"
     ]
    }
   ],
   "source": [
    "print('Number of Samples:', data.shape[0])\n",
    "print('Number of Features:', data.shape[1])"
   ]
  },
  {
   "cell_type": "code",
   "execution_count": 4,
   "metadata": {
    "colab": {
     "base_uri": "https://localhost:8080/",
     "height": 364
    },
    "id": "tC9VQz_u_N-h",
    "outputId": "b7ec4c1d-cfd1-4e10-dfda-25dc7accb03e"
   },
   "outputs": [
    {
     "data": {
      "text/html": [
       "<div>\n",
       "<style scoped>\n",
       "    .dataframe tbody tr th:only-of-type {\n",
       "        vertical-align: middle;\n",
       "    }\n",
       "\n",
       "    .dataframe tbody tr th {\n",
       "        vertical-align: top;\n",
       "    }\n",
       "\n",
       "    .dataframe thead th {\n",
       "        text-align: right;\n",
       "    }\n",
       "</style>\n",
       "<table border=\"1\" class=\"dataframe\">\n",
       "  <thead>\n",
       "    <tr style=\"text-align: right;\">\n",
       "      <th></th>\n",
       "      <th>id</th>\n",
       "      <th>encounter_id</th>\n",
       "      <th>patient_nbr</th>\n",
       "      <th>admission_type_id</th>\n",
       "      <th>discharge_disposition_id</th>\n",
       "      <th>admission_source_id</th>\n",
       "      <th>time_in_hospital</th>\n",
       "      <th>num_lab_procedures</th>\n",
       "      <th>num_procedures</th>\n",
       "      <th>num_medications</th>\n",
       "      <th>number_outpatient</th>\n",
       "      <th>number_emergency</th>\n",
       "      <th>number_inpatient</th>\n",
       "      <th>number_diagnoses</th>\n",
       "    </tr>\n",
       "  </thead>\n",
       "  <tbody>\n",
       "    <tr>\n",
       "      <th>count</th>\n",
       "      <td>101766.000000</td>\n",
       "      <td>1.017660e+05</td>\n",
       "      <td>1.017660e+05</td>\n",
       "      <td>101766.000000</td>\n",
       "      <td>101766.000000</td>\n",
       "      <td>101766.000000</td>\n",
       "      <td>101766.000000</td>\n",
       "      <td>101766.000000</td>\n",
       "      <td>101766.000000</td>\n",
       "      <td>101766.000000</td>\n",
       "      <td>101766.000000</td>\n",
       "      <td>101766.000000</td>\n",
       "      <td>101766.000000</td>\n",
       "      <td>101766.000000</td>\n",
       "    </tr>\n",
       "    <tr>\n",
       "      <th>mean</th>\n",
       "      <td>50883.500000</td>\n",
       "      <td>1.652016e+08</td>\n",
       "      <td>5.433040e+07</td>\n",
       "      <td>2.024006</td>\n",
       "      <td>3.715642</td>\n",
       "      <td>5.754437</td>\n",
       "      <td>4.395987</td>\n",
       "      <td>43.095641</td>\n",
       "      <td>1.339730</td>\n",
       "      <td>16.021844</td>\n",
       "      <td>0.369357</td>\n",
       "      <td>0.197836</td>\n",
       "      <td>0.635566</td>\n",
       "      <td>7.422607</td>\n",
       "    </tr>\n",
       "    <tr>\n",
       "      <th>std</th>\n",
       "      <td>29377.458084</td>\n",
       "      <td>1.026403e+08</td>\n",
       "      <td>3.869636e+07</td>\n",
       "      <td>1.445403</td>\n",
       "      <td>5.280166</td>\n",
       "      <td>4.064081</td>\n",
       "      <td>2.985108</td>\n",
       "      <td>19.674362</td>\n",
       "      <td>1.705807</td>\n",
       "      <td>8.127566</td>\n",
       "      <td>1.267265</td>\n",
       "      <td>0.930472</td>\n",
       "      <td>1.262863</td>\n",
       "      <td>1.933600</td>\n",
       "    </tr>\n",
       "    <tr>\n",
       "      <th>min</th>\n",
       "      <td>1.000000</td>\n",
       "      <td>1.252200e+04</td>\n",
       "      <td>1.350000e+02</td>\n",
       "      <td>1.000000</td>\n",
       "      <td>1.000000</td>\n",
       "      <td>1.000000</td>\n",
       "      <td>1.000000</td>\n",
       "      <td>1.000000</td>\n",
       "      <td>0.000000</td>\n",
       "      <td>1.000000</td>\n",
       "      <td>0.000000</td>\n",
       "      <td>0.000000</td>\n",
       "      <td>0.000000</td>\n",
       "      <td>1.000000</td>\n",
       "    </tr>\n",
       "    <tr>\n",
       "      <th>25%</th>\n",
       "      <td>25442.250000</td>\n",
       "      <td>8.496119e+07</td>\n",
       "      <td>2.341322e+07</td>\n",
       "      <td>1.000000</td>\n",
       "      <td>1.000000</td>\n",
       "      <td>1.000000</td>\n",
       "      <td>2.000000</td>\n",
       "      <td>31.000000</td>\n",
       "      <td>0.000000</td>\n",
       "      <td>10.000000</td>\n",
       "      <td>0.000000</td>\n",
       "      <td>0.000000</td>\n",
       "      <td>0.000000</td>\n",
       "      <td>6.000000</td>\n",
       "    </tr>\n",
       "    <tr>\n",
       "      <th>50%</th>\n",
       "      <td>50883.500000</td>\n",
       "      <td>1.523890e+08</td>\n",
       "      <td>4.550514e+07</td>\n",
       "      <td>1.000000</td>\n",
       "      <td>1.000000</td>\n",
       "      <td>7.000000</td>\n",
       "      <td>4.000000</td>\n",
       "      <td>44.000000</td>\n",
       "      <td>1.000000</td>\n",
       "      <td>15.000000</td>\n",
       "      <td>0.000000</td>\n",
       "      <td>0.000000</td>\n",
       "      <td>0.000000</td>\n",
       "      <td>8.000000</td>\n",
       "    </tr>\n",
       "    <tr>\n",
       "      <th>75%</th>\n",
       "      <td>76324.750000</td>\n",
       "      <td>2.302709e+08</td>\n",
       "      <td>8.754595e+07</td>\n",
       "      <td>3.000000</td>\n",
       "      <td>4.000000</td>\n",
       "      <td>7.000000</td>\n",
       "      <td>6.000000</td>\n",
       "      <td>57.000000</td>\n",
       "      <td>2.000000</td>\n",
       "      <td>20.000000</td>\n",
       "      <td>0.000000</td>\n",
       "      <td>0.000000</td>\n",
       "      <td>1.000000</td>\n",
       "      <td>9.000000</td>\n",
       "    </tr>\n",
       "    <tr>\n",
       "      <th>max</th>\n",
       "      <td>101766.000000</td>\n",
       "      <td>4.438672e+08</td>\n",
       "      <td>1.895026e+08</td>\n",
       "      <td>8.000000</td>\n",
       "      <td>28.000000</td>\n",
       "      <td>25.000000</td>\n",
       "      <td>14.000000</td>\n",
       "      <td>132.000000</td>\n",
       "      <td>6.000000</td>\n",
       "      <td>81.000000</td>\n",
       "      <td>42.000000</td>\n",
       "      <td>76.000000</td>\n",
       "      <td>21.000000</td>\n",
       "      <td>16.000000</td>\n",
       "    </tr>\n",
       "  </tbody>\n",
       "</table>\n",
       "</div>"
      ],
      "text/plain": [
       "                  id  encounter_id   patient_nbr  admission_type_id  \\\n",
       "count  101766.000000  1.017660e+05  1.017660e+05      101766.000000   \n",
       "mean    50883.500000  1.652016e+08  5.433040e+07           2.024006   \n",
       "std     29377.458084  1.026403e+08  3.869636e+07           1.445403   \n",
       "min         1.000000  1.252200e+04  1.350000e+02           1.000000   \n",
       "25%     25442.250000  8.496119e+07  2.341322e+07           1.000000   \n",
       "50%     50883.500000  1.523890e+08  4.550514e+07           1.000000   \n",
       "75%     76324.750000  2.302709e+08  8.754595e+07           3.000000   \n",
       "max    101766.000000  4.438672e+08  1.895026e+08           8.000000   \n",
       "\n",
       "       discharge_disposition_id  admission_source_id  time_in_hospital  \\\n",
       "count             101766.000000        101766.000000     101766.000000   \n",
       "mean                   3.715642             5.754437          4.395987   \n",
       "std                    5.280166             4.064081          2.985108   \n",
       "min                    1.000000             1.000000          1.000000   \n",
       "25%                    1.000000             1.000000          2.000000   \n",
       "50%                    1.000000             7.000000          4.000000   \n",
       "75%                    4.000000             7.000000          6.000000   \n",
       "max                   28.000000            25.000000         14.000000   \n",
       "\n",
       "       num_lab_procedures  num_procedures  num_medications  number_outpatient  \\\n",
       "count       101766.000000   101766.000000    101766.000000      101766.000000   \n",
       "mean            43.095641        1.339730        16.021844           0.369357   \n",
       "std             19.674362        1.705807         8.127566           1.267265   \n",
       "min              1.000000        0.000000         1.000000           0.000000   \n",
       "25%             31.000000        0.000000        10.000000           0.000000   \n",
       "50%             44.000000        1.000000        15.000000           0.000000   \n",
       "75%             57.000000        2.000000        20.000000           0.000000   \n",
       "max            132.000000        6.000000        81.000000          42.000000   \n",
       "\n",
       "       number_emergency  number_inpatient  number_diagnoses  \n",
       "count     101766.000000     101766.000000     101766.000000  \n",
       "mean           0.197836          0.635566          7.422607  \n",
       "std            0.930472          1.262863          1.933600  \n",
       "min            0.000000          0.000000          1.000000  \n",
       "25%            0.000000          0.000000          6.000000  \n",
       "50%            0.000000          0.000000          8.000000  \n",
       "75%            0.000000          1.000000          9.000000  \n",
       "max           76.000000         21.000000         16.000000  "
      ]
     },
     "execution_count": 4,
     "metadata": {},
     "output_type": "execute_result"
    }
   ],
   "source": [
    "data.describe()"
   ]
  },
  {
   "cell_type": "code",
   "execution_count": 5,
   "metadata": {
    "colab": {
     "base_uri": "https://localhost:8080/"
    },
    "id": "fDHiNZPqropn",
    "outputId": "acb76808-0305-49eb-cad5-05b7808885a3"
   },
   "outputs": [
    {
     "name": "stdout",
     "output_type": "stream",
     "text": [
      "Unique Individuals/Patients: 71518\n",
      "Number of Unique Encounters: 101766\n"
     ]
    }
   ],
   "source": [
    "print('Unique Individuals/Patients:', data.patient_nbr.nunique())\n",
    "print('Number of Unique Encounters:', data.encounter_id.nunique())"
   ]
  },
  {
   "cell_type": "markdown",
   "metadata": {
    "id": "I2XnV6eS9zCt"
   },
   "source": [
    "### Missingness"
   ]
  },
  {
   "cell_type": "code",
   "execution_count": 6,
   "metadata": {
    "colab": {
     "base_uri": "https://localhost:8080/"
    },
    "id": "-Qi6E0U_yylT",
    "outputId": "edd74d8f-77c8-4245-ebff-37230a3b1c2f"
   },
   "outputs": [
    {
     "data": {
      "text/plain": [
       "id                           0\n",
       "encounter_id                 0\n",
       "patient_nbr                  0\n",
       "race                         2\n",
       "gender                       0\n",
       "age                          0\n",
       "weight                      97\n",
       "admission_type_id            0\n",
       "discharge_disposition_id     0\n",
       "admission_source_id          0\n",
       "time_in_hospital             0\n",
       "payer_code                  40\n",
       "medical_specialty           49\n",
       "num_lab_procedures           0\n",
       "num_procedures               0\n",
       "num_medications              0\n",
       "number_outpatient            0\n",
       "number_emergency             0\n",
       "number_inpatient             0\n",
       "diag_1                       0\n",
       "diag_2                       0\n",
       "diag_3                       1\n",
       "number_diagnoses             0\n",
       "max_glu_serum               95\n",
       "A1Cresult                   83\n",
       "metformin                    0\n",
       "repaglinide                  0\n",
       "nateglinide                  0\n",
       "chlorpropamide               0\n",
       "glimepiride                  0\n",
       "acetohexamide                0\n",
       "glipizide                    0\n",
       "glyburide                    0\n",
       "tolbutamide                  0\n",
       "pioglitazone                 0\n",
       "rosiglitazone                0\n",
       "acarbose                     0\n",
       "miglitol                     0\n",
       "troglitazone                 0\n",
       "tolazamide                   0\n",
       "examide                      0\n",
       "citoglipton                  0\n",
       "insulin                      0\n",
       "glyburide.metformin          0\n",
       "glipizide.metformin          0\n",
       "glimepiride.pioglitazone     0\n",
       "metformin.rosiglitazone      0\n",
       "metformin.pioglitazone       0\n",
       "change                       0\n",
       "diabetesMed                  0\n",
       "readmitted                   0\n",
       "dtype: int64"
      ]
     },
     "execution_count": 6,
     "metadata": {},
     "output_type": "execute_result"
    }
   ],
   "source": [
    "# Define a function to calculate the percentage of null values in a column\n",
    "def null_percentage(col):\n",
    "    possible_nulls = [None, np.nan, 'None', '?']\n",
    "    null_count = col.isin(possible_nulls).sum()\n",
    "    total_count = len(col)\n",
    "    return round(null_count / total_count * 100)\n",
    "\n",
    "# Calculate the percentage of null values in each column\n",
    "data.apply(null_percentage)"
   ]
  },
  {
   "cell_type": "markdown",
   "metadata": {
    "id": "3f9bdUpd-f2c"
   },
   "source": [
    "Some features have more missing values than other.\n",
    "\n",
    " - weight\n",
    " - max_glu_serum\n",
    " - A1Cresult\n",
    "\n",
    "Have the highest percentage of null values."
   ]
  },
  {
   "cell_type": "markdown",
   "metadata": {
    "id": "gCsygLVd-zk8"
   },
   "source": [
    "### Near-Zero Variance Features"
   ]
  },
  {
   "cell_type": "code",
   "execution_count": 7,
   "metadata": {
    "colab": {
     "base_uri": "https://localhost:8080/"
    },
    "id": "Z1lU3rCrzMCK",
    "outputId": "3766224e-8e2f-4420-ea3f-460e07166c3e"
   },
   "outputs": [
    {
     "name": "stdout",
     "output_type": "stream",
     "text": [
      "Columns with near-zero variance: ['repaglinide', 'nateglinide']\n"
     ]
    }
   ],
   "source": [
    "# Define a threshold for near-zero variance\n",
    "threshold = 0.0\n",
    "\n",
    "# Encode categorical features as integers\n",
    "df_encoded = data.select_dtypes(include=['object']).apply(lambda x: pd.factorize(x)[0])\n",
    "df_encoded = pd.concat([df_encoded, data.select_dtypes(include=['int', 'float'])], axis=1)\n",
    "\n",
    "# Instantiate VarianceThreshold object\n",
    "selector = fs.VarianceThreshold(threshold)\n",
    "\n",
    "# Fit selector to DataFrame\n",
    "selector.fit(df_encoded)\n",
    "\n",
    "# Get boolean mask of features that meet threshold\n",
    "mask = selector.get_support()\n",
    "\n",
    "# Get list of column names that meet threshold\n",
    "near_zero_var_cols = data.columns[~mask].tolist()\n",
    "\n",
    "# Print the result\n",
    "print('Columns with near-zero variance:', near_zero_var_cols)"
   ]
  },
  {
   "cell_type": "markdown",
   "metadata": {
    "id": "Y6M0VcU6_ARS"
   },
   "source": [
    "Two features (repaglinide and nateglinide) have no variance, meaning that each patient has the same value. We can then remove these features as they don't have any information."
   ]
  },
  {
   "cell_type": "markdown",
   "metadata": {},
   "source": [
    "## Data Preparation"
   ]
  },
  {
   "cell_type": "markdown",
   "metadata": {
    "id": "XJdECvOq_gym"
   },
   "source": [
    "### Data Dictionary"
   ]
  },
  {
   "cell_type": "markdown",
   "metadata": {
    "id": "UOPO9gUK_j_W"
   },
   "source": [
    " - `id` The id of the row, simply to identify the entry in the db.\n",
    " - `encounter_id` The unique id for each encounter/visit with a doctor. e.g. every time that a patient goes to a hospital, it is a different encounter.\n",
    " - `patient_nbr` The patient identifier.\n",
    " - `race` The patient's ethnicity.\n",
    " - `gender` The patient's gender.\n",
    " - `age` The patient's age.\n",
    " - `weight` The patient's weight.\n",
    " - `admission_type_id` An identifier for the type of admission, e.g. hospital, emergency room, surgery, etc. (You're not entirely sure which one is which but it's ok for now).\n",
    " - `discharge_disposition_id` An identifier for the type of disharge, e.g. hospital, home, emergency room, surgery, etc. (You're not entirely sure which one is which but it's ok for now).\n",
    " - `admission_source_id` An identifier for the type of admission source. (You're not entirely sure which one is which but it's ok for now).\n",
    " - `time_in_hospital` The number of days spent in hospital.\n",
    " - `payer_code` The code of that patient's insurance.\n",
    " - `medical_specialty` The type of medical specialty related to that person's visit.\n",
    " - `num_lab_procedures` The number of lab procedures performed on that patient.\n",
    " - `num_procedures` The number of procedures/surgeries performed on that patient.\n",
    " - `num_medications` The number of medications/drugs that that person is on.\n",
    " - `number_outpatient` The number of outpatient visits.\n",
    " - `number_emergency` The number of emergency room visits.\n",
    " - `number_inpatient` The number of inpatient visits.\n",
    " - `diag_1` The primary diagnosis.\n",
    " - `diag_2` The secondary diagnosis.\n",
    " - `diag_3` The tertiary diagnosis.\n",
    " - `number_diagnoses` The total number of diagnoses.\n",
    " - `max_glu_serum` The patient's blood glucose maximum value.\n",
    " - `A1Cresult` A biomarker that indicates a diabetic's severity.\n",
    " - `metformin` Is that person on this drug? (Yes/No)\n",
    " - `repaglinide` Is that person on this drug? (Yes/No)\n",
    " - `nateglinide` Is that person on this drug? (Yes/No)\n",
    " - `chlorpropamide` Is that person on this drug? (Yes/No)\n",
    " - `glimepiride` Is that person on this drug? (Yes/No)\n",
    " - `acetohexamide` Is that person on this drug? (Yes/No)\n",
    " - `glipizide` Is that person on this drug? (Yes/No)\n",
    " - `glyburide` Is that person on this drug? (Yes/No)\n",
    " - `tolbutamide` Is that person on this drug? (Yes/No)\n",
    " - `pioglitazone` Is that person on this drug? (Yes/No)\n",
    " - `rosiglitazone` Is that person on this drug? (Yes/No)\n",
    " - `acarbose` Is that person on this drug? (Yes/No)\n",
    " - `miglitol` Is that person on this drug? (Yes/No)\n",
    " - `troglitazone` Is that person on this drug? (Yes/No)\n",
    " - `tolazamide` Is that person on this drug? (Yes/No)\n",
    " - `examide` Is that person on this drug? (Yes/No)\n",
    " - `citoglipton` Is that person on this drug? (Yes/No)\n",
    " - `insulin` Is that person on this drug? (Yes/No)\n",
    " - `glyburide.metformin` Is that person on this drug? (Yes/No)\n",
    " - `glipizide.metformin` Is that person on this drug? (Yes/No)\n",
    " - `glimepiride.pioglitazone` Is that person on this drug? (Yes/No)\n",
    " - `metformin.rosiglitazone` Is that person on this drug? (Yes/No)\n",
    " - `metformin.pioglitazone` Is that person on this drug? (Yes/No)\n",
    " - `change` The change in HbA1c.\n",
    " - `diabetesMed` Whether the patient is on a diabetes medication.\n",
    " - `readmitted` Whether the visit is a readmission."
   ]
  },
  {
   "cell_type": "markdown",
   "metadata": {
    "id": "Dn-osWiWD3I9"
   },
   "source": [
    "### Parameters"
   ]
  },
  {
   "cell_type": "code",
   "execution_count": 8,
   "metadata": {
    "id": "YKURgYBZD3e0"
   },
   "outputs": [],
   "source": [
    "non_predictive_features = ['id', 'encounter_id', 'patient_nbr']\n",
    "categorical_features = ['race', 'gender', 'admission_type_id',\n",
    "                        'discharge_disposition_id', 'admission_source_id',\n",
    "                        'payer_code', 'medical_specialty',\n",
    "                        'diag_1', 'diag_2', 'diag_3',\n",
    "                        'diag_1_category', 'diag_2_category', 'diag_3_category']\n",
    "ex_post_features = []\n",
    "target = 'A1Cresult'"
   ]
  },
  {
   "cell_type": "markdown",
   "metadata": {
    "id": "9xNvURhh_GkK"
   },
   "source": [
    "### Data Cleaning"
   ]
  },
  {
   "cell_type": "code",
   "execution_count": 9,
   "metadata": {
    "id": "SKLPk6mcbllv"
   },
   "outputs": [],
   "source": [
    "def clean_data(df):\n",
    "    df = df.copy()\n",
    "\n",
    "    for col in df.columns:\n",
    "        # Replace '?' with None\n",
    "        df[col] = df[col].apply(lambda x: None if x == \"?\" else x)\n",
    "\n",
    "        # Convert 'NO', '<30', and '>30' to 0 and 1 respectively\n",
    "        if set(df[col].unique()) == {'NO', '<30', '>30'}:\n",
    "            df[col] = df[col].apply(lambda x: 0 if x == 'NO' else 1)\n",
    "\n",
    "        # Check the max_glu_serum column\n",
    "        if col == 'max_glu_serum':\n",
    "            df[col] = df[col].apply(lambda x: None if x == 'None' else (301 if x == '>300' else (85 if x == 'Norm' else (201 if x == '>200' else x))))\n",
    "\n",
    "        # Convert '>xxx' and '<xxx' to just 'xxx'\n",
    "        df[col] = df[col].apply(lambda x: float(x[1:]) + 1 if isinstance(x, str) and x.startswith(\">\") else x)\n",
    "        df[col] = df[col].apply(lambda x: float(x[1:]) - 1 if isinstance(x, str) and x.startswith(\"<\") else x)\n",
    "\n",
    "        # Convert '[xx-yy)' to the average of xx and yy\n",
    "        df[col] = df[col].apply(lambda x: (float(x.split(\"-\")[0][1:]) + float(x.split(\"-\")[1][:-1]))/2 if isinstance(x, str) and x.startswith(\"[\") and x.endswith(\")\") else x)\n",
    "\n",
    "        # Convert 'No' to 0, 'Steady', 'Up', and 'Down' to 1\n",
    "        if set(df[col].unique()).issubset({'No', 'Steady', 'Up', 'Down'}):\n",
    "            df[col] = df[col].apply(lambda x: 1 if x in {'Steady', 'Up', 'Down'} else 0)\n",
    "\n",
    "        # Convert 'No' and 'Ch' or 'No' and 'Yes' to 0 and 1 respectively\n",
    "        elif set(df[col].unique()) == {'No', 'Ch'} or set(df[col].unique()) == {'No', 'Yes'}:\n",
    "            df[col] = df[col].apply(lambda x: 1 if x in {'Yes', 'Ch'} else 0 if x == 'No' else x)\n",
    "\n",
    "        # Convert 'None' to None\n",
    "        df[col] = df[col].apply(lambda x: None if x == \"None\" else x)\n",
    "\n",
    "        # Convert 'NO' to 0\n",
    "        df[col] = df[col].apply(lambda x: 0 if x == 'NO' else x)\n",
    "\n",
    "    return df\n",
    "\n",
    "cleaned = clean_data(data)"
   ]
  },
  {
   "cell_type": "markdown",
   "metadata": {
    "id": "zMDTCgJYGJ7n"
   },
   "source": [
    "### Data Aggregation"
   ]
  },
  {
   "cell_type": "markdown",
   "metadata": {
    "id": "Bg--og1jIKd9"
   },
   "source": [
    "We want to make a model that takes the current characteristics of a patient and estimates their current HbA1c. For simplicity's sake, we take the latest encounter, which we consider the patient's current characteristics and HbA1c. We are leaving information on the table from all the previous encounters but we approach the model as an MVP (Minimum Viable Product), meaning that we develop a simple model first and we can then go back and add new features using the past information."
   ]
  },
  {
   "cell_type": "code",
   "execution_count": 10,
   "metadata": {
    "id": "5HZHjd86GKa_"
   },
   "outputs": [],
   "source": [
    "individuals = cleaned.loc[cleaned.reset_index().groupby(['patient_nbr'])['encounter_id'].idxmax()]"
   ]
  },
  {
   "cell_type": "markdown",
   "metadata": {
    "id": "Z_ktVdtRsCzq"
   },
   "source": [
    "### Feature Engineering"
   ]
  },
  {
   "cell_type": "code",
   "execution_count": 11,
   "metadata": {
    "id": "n6ifnF2hdIBT"
   },
   "outputs": [],
   "source": [
    "def map_icd_codes(code):\n",
    "  if code is None:\n",
    "    return 'Unknown'\n",
    "  elif code[:1] in ['E', 'V']:\n",
    "    return 'Other'\n",
    "  else:\n",
    "    code = float(code)\n",
    "    if (code >= 390 and code <= 459) or code == 785:\n",
    "        return 'Circulatory'\n",
    "    elif (code >= 460 and code <= 519) or code == 786:\n",
    "        return 'Respiratory'\n",
    "    elif (code >= 520 and code <= 579) or code == 787:\n",
    "        return 'Digestive'\n",
    "    elif (code >= 250 and code < 251):\n",
    "        return 'Diabetes'\n",
    "    elif code >= 800 and code <= 999:\n",
    "        return 'Injury'\n",
    "    elif code >= 710 and code <= 739:\n",
    "        return 'Musculoskeletal'\n",
    "    elif (code >= 580 and code <= 629) or code == 788:\n",
    "        return 'Genitourinary'\n",
    "    elif code >= 140 and code <= 239:\n",
    "        return 'Neoplasms'\n",
    "    elif code in ['780', '781', '784', '790', '791', '792', '793', '794', '795', '796', '797', '798', '799'] \\\n",
    "     or (code >= 1 and code <= 139) \\\n",
    "     or (code >= 771 and code <= 779) \\\n",
    "     or (code >= 290 and code <= 319) \\\n",
    "     or (code >= 306 and code <= 316) \\\n",
    "     or (code >= 320 and code <= 359) \\\n",
    "     or (code == 7805) \\\n",
    "     or (code >= 1 and code <= 999 and code < 140) \\\n",
    "     or (code >= 630 and code <= 679) \\\n",
    "     or (code >= 680 and code <= 709) \\\n",
    "     or (code >= 280 and code <= 289) \\\n",
    "     or (code >= 360 and code <= 389) \\\n",
    "     or (code >= 740 and code <= 759):\n",
    "        return 'Other'\n",
    "    else:\n",
    "        return 'Unknown'\n",
    "\n",
    "# Apply the function to the diag_1 column\n",
    "individuals['diag_1_category'] = individuals['diag_1'].apply(map_icd_codes)\n",
    "individuals['diag_2_category'] = individuals['diag_2'].apply(map_icd_codes)\n",
    "individuals['diag_3_category'] = individuals['diag_3'].apply(map_icd_codes)"
   ]
  },
  {
   "cell_type": "code",
   "execution_count": 12,
   "metadata": {
    "id": "Rc00ZSUJbE7O"
   },
   "outputs": [],
   "source": [
    "individuals.drop('diag_1', axis=1, inplace=True)\n",
    "individuals.drop('diag_2', axis=1, inplace=True)\n",
    "individuals.drop('diag_3', axis=1, inplace=True)"
   ]
  },
  {
   "cell_type": "markdown",
   "metadata": {
    "id": "JI7LaJu0sGb-"
   },
   "source": [
    "#### One-Hot Encoding"
   ]
  },
  {
   "cell_type": "markdown",
   "metadata": {
    "id": "jkl9vj9nIsb3"
   },
   "source": [
    "One-Hot Encoding to convert the categorical features into binary ones."
   ]
  },
  {
   "cell_type": "code",
   "execution_count": 13,
   "metadata": {
    "id": "uzEc6fU9_Ju0"
   },
   "outputs": [],
   "source": [
    "for c in categorical_features:\n",
    "    if c in individuals.columns:\n",
    "        one_hot = pd.get_dummies(individuals[c], prefix=c)\n",
    "        individuals = individuals.drop(c, axis=1)\n",
    "        individuals = individuals.join(one_hot)"
   ]
  },
  {
   "cell_type": "markdown",
   "metadata": {
    "id": "E2rIxvujI0QE"
   },
   "source": [
    "One of the issues with One-Hot Encoding is that it increases the dimensionality of the dataset (meaning that we have sometimes way more features than we had before), creating what's called the Curse of Dimensionality."
   ]
  },
  {
   "cell_type": "code",
   "execution_count": 14,
   "metadata": {
    "colab": {
     "base_uri": "https://localhost:8080/"
    },
    "id": "MVDVwRAMJEK1",
    "outputId": "b740ca6a-ceb6-4b93-cf58-22cb87991597"
   },
   "outputs": [
    {
     "name": "stdout",
     "output_type": "stream",
     "text": [
      "Number of Features: 216\n"
     ]
    }
   ],
   "source": [
    "print('Number of Features:', individuals.shape[1])"
   ]
  },
  {
   "cell_type": "markdown",
   "metadata": {
    "id": "4XHwI7OoJjsR"
   },
   "source": [
    "In this case, we went from 51 features to 216. That's a large increase and lots of new features. There are other ways to turn categorical features into numerical ones, such as Target Encoding, but because they make the model more difficult to interpret, we stick with One-Hot Encoding as we still have a ratio of samples to features of ~4 to 1.\n",
    "\n",
    "If we had kept the diagnoses as individual values, without grouping them, we would have had thousands of new features."
   ]
  },
  {
   "cell_type": "markdown",
   "metadata": {
    "id": "Yc-yEoW7sKrd"
   },
   "source": [
    "#### Non-Predictive Features"
   ]
  },
  {
   "cell_type": "markdown",
   "metadata": {
    "id": "2UBA2-6ZJ8Jw"
   },
   "source": [
    "Removing the non-predictive features, such as the IDs and the Diabetes category, as everybody in this dataset has Diabetes."
   ]
  },
  {
   "cell_type": "code",
   "execution_count": 15,
   "metadata": {
    "id": "G_KSkJ4TqiWN"
   },
   "outputs": [],
   "source": [
    "individuals = individuals.drop(non_predictive_features, axis=1)"
   ]
  },
  {
   "cell_type": "code",
   "execution_count": 16,
   "metadata": {
    "id": "n02pY94OiQ4h"
   },
   "outputs": [],
   "source": [
    "individuals.drop('diag_1_category_Diabetes', axis=1, inplace=True)\n",
    "individuals.drop('diag_2_category_Diabetes', axis=1, inplace=True)\n",
    "individuals.drop('diag_3_category_Diabetes', axis=1, inplace=True)"
   ]
  },
  {
   "cell_type": "markdown",
   "metadata": {
    "id": "X1gPD00usURA"
   },
   "source": [
    "### Train, Validation and Test Split"
   ]
  },
  {
   "cell_type": "markdown",
   "metadata": {
    "id": "DdGu6orOKCvC"
   },
   "source": [
    "There are three types of individuals based on HbA1c:\n",
    " 1. Those that have HbA1c on file, and it is over 8\n",
    " 2. Those that have HbA1c on file, and it is under 8\n",
    " 3. Those that do not have HbA1c on file, meaning that information is missing\n",
    "\n",
    "Our model is going to be trained on the data we have information for (1. and 2.) and we will use it to then estimate the HbA1c's level (>8 or \\<8) for the unknown population (3.)."
   ]
  },
  {
   "cell_type": "code",
   "execution_count": 17,
   "metadata": {
    "colab": {
     "base_uri": "https://localhost:8080/"
    },
    "id": "PCSy2STQ2Ynh",
    "outputId": "7b6bc21f-19a3-4f12-c9fa-4f18b8c91023"
   },
   "outputs": [
    {
     "name": "stdout",
     "output_type": "stream",
     "text": [
      "Known Population: 12398\n",
      "Unknown Population: 59120\n",
      "Total Population: 71518\n"
     ]
    }
   ],
   "source": [
    "train_test = individuals[~individuals['A1Cresult'].isna()]\n",
    "unknown_population = individuals[individuals['A1Cresult'].isna()]\n",
    "print('Known Population:', train_test.shape[0])\n",
    "print('Unknown Population:', unknown_population.shape[0])\n",
    "print('Total Population:', train_test.shape[0] + unknown_population.shape[0])"
   ]
  },
  {
   "cell_type": "code",
   "execution_count": 18,
   "metadata": {
    "id": "wfVokmrs2a8f"
   },
   "outputs": [],
   "source": [
    "X = individuals[individuals.columns[~individuals.columns.isin(['A1Cresult'])]]\n",
    "y = np.where(individuals['A1Cresult'] == 9.0, 1, 0)\n",
    "\n",
    "train_X, test_X, train_y, test_y = ms.train_test_split(X, y)"
   ]
  },
  {
   "cell_type": "markdown",
   "metadata": {
    "id": "nfrjwgmislCF"
   },
   "source": [
    "### Imputation"
   ]
  },
  {
   "cell_type": "markdown",
   "metadata": {
    "id": "6axxkEvLLE5l"
   },
   "source": [
    "Usually, Mean Imputation is a pretty bad form of imputation. It replaces every unknown value with the mean which is, almost always, not a very representative metric. Better forms of imputation, such as KNN Imputation, use Machine Learning to impute the missing data. In this case, because we are developing the first model, we use Mean Imputation as a placeholder. It is a good module to keep and we can later on replace it with a better approach.\n",
    "\n",
    "It's important to do imputation after having split Training and Test sets, as you cannot use the Test set's information to impute the Training set's data (otherwise it counts as data leakage)."
   ]
  },
  {
   "cell_type": "code",
   "execution_count": 19,
   "metadata": {
    "id": "mRu7QZaPsrkq"
   },
   "outputs": [],
   "source": [
    "imputer = si.SimpleImputer(missing_values=np.nan, strategy='mean')\n",
    "imputer.fit(train_X[['weight']])\n",
    "\n",
    "train_X['weight'] = imputer.transform(train_X[['weight']])\n",
    "test_X['weight'] = imputer.transform(test_X[['weight']])"
   ]
  },
  {
   "cell_type": "code",
   "execution_count": 20,
   "metadata": {
    "id": "uCqDSUvJHPvQ"
   },
   "outputs": [],
   "source": [
    "imputer = si.SimpleImputer(missing_values=np.nan, strategy='mean')\n",
    "imputer.fit(train_X[['max_glu_serum']])\n",
    "\n",
    "train_X['max_glu_serum'] = imputer.transform(train_X[['max_glu_serum']])\n",
    "test_X['max_glu_serum'] = imputer.transform(test_X[['max_glu_serum']])"
   ]
  },
  {
   "cell_type": "markdown",
   "metadata": {},
   "source": [
    "### Saving Data"
   ]
  },
  {
   "cell_type": "code",
   "execution_count": 21,
   "metadata": {},
   "outputs": [],
   "source": [
    "with open('train_X.csv', 'w') as FOUT:\n",
    "    np.savetxt(FOUT, train_X)\n",
    "\n",
    "with open('test_X.csv', 'w') as FOUT:\n",
    "    np.savetxt(FOUT, test_X)\n",
    "\n",
    "with open('train_y.csv', 'w') as FOUT:\n",
    "    np.savetxt(FOUT, train_y)\n",
    "\n",
    "with open('test_y.csv', 'w') as FOUT:\n",
    "    np.savetxt(FOUT, test_y)\n",
    "    \n",
    "with open('features.pkl', 'wb') as f:\n",
    "    pickle.dump(X.columns, f)"
   ]
  }
 ],
 "metadata": {
  "colab": {
   "provenance": []
  },
  "kernelspec": {
   "display_name": "Python 3",
   "language": "python",
   "name": "python3"
  },
  "language_info": {
   "codemirror_mode": {
    "name": "ipython",
    "version": 3
   },
   "file_extension": ".py",
   "mimetype": "text/x-python",
   "name": "python",
   "nbconvert_exporter": "python",
   "pygments_lexer": "ipython3",
   "version": "3.8.6"
  }
 },
 "nbformat": 4,
 "nbformat_minor": 1
}
